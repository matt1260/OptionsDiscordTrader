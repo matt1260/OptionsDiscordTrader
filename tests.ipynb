{
 "cells": [
  {
   "cell_type": "code",
   "execution_count": 1,
   "metadata": {},
   "outputs": [
    {
     "name": "stdout",
     "output_type": "stream",
     "text": [
      "Getting TD Ameritrade credentials\n",
      "Creating new TD Ameritrade session\n"
     ]
    }
   ],
   "source": [
    "# Options Trader\n",
    "# v1.1\n",
    "# (c) 2023 TechTraders.tech\n",
    "\n",
    "import asyncio\n",
    "import csv\n",
    "import datetime\n",
    "import os.path\n",
    "\n",
    "from tda.auth import easy_client\n",
    "from tda.client import Client\n",
    "from tda.streaming import StreamClient\n",
    "\n",
    "from flask import Flask\n",
    "\n",
    "import pytz\n",
    "import httpx\n",
    "\n",
    "from configparser import ConfigParser\n",
    "from csv import writer\n",
    "from datetime import datetime\n",
    "import datetime\n",
    "import pandas as pd\n",
    "\n",
    "print('Getting TD Ameritrade credentials')\n",
    "config = ConfigParser()\n",
    "config.read('config/config.ini')\n",
    "client_id = config.get('main', 'client_id')\n",
    "redirect_uri = config.get('main', 'redirect_uri')\n",
    "account_no = config.get('main', 'account_number')\n",
    "\n",
    "client = easy_client(\n",
    "        api_key=client_id,\n",
    "        redirect_uri=redirect_uri,\n",
    "        token_path='config/token.json')\n",
    "\n",
    "print('Creating new TD Ameritrade session')\n",
    "stream_client = StreamClient(client, account_id=account_no)"
   ]
  },
  {
   "cell_type": "code",
   "execution_count": 2,
   "metadata": {},
   "outputs": [],
   "source": [
    "quote = client.get_quote(\"QQQ\")\n",
    "quote = quote.json()\n",
    "quote\n",
    "\n",
    "lastprice = quote[\"QQQ\"]['lastPrice']\n",
    "bidprice = quote[\"QQQ\"]['bidPrice']\n",
    "askprice = quote[\"QQQ\"]['askPrice']\n",
    "\n"
   ]
  },
  {
   "cell_type": "code",
   "execution_count": null,
   "metadata": {},
   "outputs": [],
   "source": [
    "today = datetime.date.today()\n",
    "orders_service = td_client.orders()\n",
    "\n",
    "orders = orders_service.get_orders_by_path(\n",
    "    from_entered_time=today,\n",
    "    account_id=account_no,\n",
    "    order_status=OrderStatus.Working\n",
    ")"
   ]
  },
  {
   "cell_type": "code",
   "execution_count": null,
   "metadata": {},
   "outputs": [],
   "source": [
    "resp = client.get_option_chain('AAPL',\n",
    "        contract_type='ALL',\n",
    "        strike_count=,\n",
    "        frequency_type=Client.PriceHistory.FrequencyType.DAILY,\n",
    "        frequency=Client.PriceHistory.Frequency.DAILY)\n",
    "assert resp.status_code == httpx.codes.OK\n",
    "\n",
    "history = resp.json()\n",
    "\n",
    "history"
   ]
  },
  {
   "cell_type": "code",
   "execution_count": null,
   "metadata": {},
   "outputs": [],
   "source": []
  },
  {
   "cell_type": "code",
   "execution_count": null,
   "metadata": {},
   "outputs": [],
   "source": []
  }
 ],
 "metadata": {
  "kernelspec": {
   "display_name": "venv",
   "language": "python",
   "name": "python3"
  },
  "language_info": {
   "codemirror_mode": {
    "name": "ipython",
    "version": 3
   },
   "file_extension": ".py",
   "mimetype": "text/x-python",
   "name": "python",
   "nbconvert_exporter": "python",
   "pygments_lexer": "ipython3",
   "version": "3.9.13 (main, May 24 2022, 21:28:31) \n[Clang 13.1.6 (clang-1316.0.21.2)]"
  },
  "orig_nbformat": 4,
  "vscode": {
   "interpreter": {
    "hash": "30ff188f686fb3b9d51d7a7423d9af31c0be1dcccc83e8088a9ca8db3052d83d"
   }
  }
 },
 "nbformat": 4,
 "nbformat_minor": 2
}
